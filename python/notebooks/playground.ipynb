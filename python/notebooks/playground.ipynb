{
 "cells": [
  {
   "cell_type": "code",
   "execution_count": null,
   "id": "efd78655-78fa-46cc-856e-bef3163ceb46",
   "metadata": {
    "tags": []
   },
   "outputs": [],
   "source": [
    "%load_ext autoreload\n",
    "%autoreload 2"
   ]
  },
  {
   "cell_type": "code",
   "execution_count": null,
   "id": "632a94aa-aecf-491a-9656-45d38d72ceff",
   "metadata": {
    "tags": []
   },
   "outputs": [],
   "source": [
    "!wget https://somatic-browser-test.s3.amazonaws.com/SVTYPE_SV_test_tumor_normal_with_panel.bedpe\n",
    "\n",
    "config = [{\n",
    "    \"id\": \"SRR7890905\",\n",
    "    \"cancer\": \"breast\",\n",
    "    \"assembly\": \"hg38\",\n",
    "    \"sv\": \"./SVTYPE_SV_test_tumor_normal_with_panel.bedpe\",\n",
    "    \"cnv\": \"https://gist.githubusercontent.com/sehilyi/6fbceae35756b13472332d6b81b10803/raw/596428a8b0ebc00e7f8cbc52b050db0fbd6e19a5/SRR7890943.ascat.v3.cnv.tsv\",\n",
    "    \"bam\": \"https://somatic-browser-test.s3.amazonaws.com/SRR7890905_GAPFI2USVS21.bam\",\n",
    "    \"bai\": \"https://somatic-browser-test.s3.amazonaws.com/SRR7890905_GAPFI2USVS21.bam.bai\",\n",
    "    \"note\": \"This is a test note\"\n",
    "},\n",
    "{\n",
    "    \"id\": \"bc0dee07-de20-44d6-be65-05af7e63ac96\",\n",
    "    \"cancer\": \"gastric\",\n",
    "    \"assembly\": \"hg19\",\n",
    "    \"sv\": \"https://somatic-browser-test.s3.amazonaws.com/cdk12cancers/bc0dee07-de20-44d6-be65-05af7e63ac96.pcawg_consensus_1.6.161116.somatic.sv.bedpe\",\n",
    "    \"cnv\": \"https://somatic-browser-test.s3.amazonaws.com/cdk12cancers/bc0dee07-de20-44d6-be65-05af7e63ac96.consensus.20170119.somatic.cna.txt\",\n",
    "    \"vcf\": \"https://somatic-browser-test.s3.amazonaws.com/cdk12cancers/bc0dee07-de20-44d6-be65-05af7e63ac96.consensus.20160830.somatic.snv_mnv.sorted.vcf.gz\",\n",
    "    \"vcfIndex\": \"https://somatic-browser-test.s3.amazonaws.com/cdk12cancers/bc0dee07-de20-44d6-be65-05af7e63ac96.consensus.20160830.somatic.snv_mnv.sorted.vcf.gz.tbi\",\n",
    "    \"vcf2\": \"https://somatic-browser-test.s3.amazonaws.com/cdk12cancers/bc0dee07-de20-44d6-be65-05af7e63ac96.consensus.20161006.somatic.indel.sorted.vcf.gz\",\n",
    "    \"vcf2Index\":\n",
    "        \"https://somatic-browser-test.s3.amazonaws.com/cdk12cancers/bc0dee07-de20-44d6-be65-05af7e63ac96.consensus.20161006.somatic.indel.sorted.vcf.gz.tbi\",\n",
    "   \"note\": \"This is a test note\"\n",
    "}]"
   ]
  },
  {
   "cell_type": "code",
   "execution_count": null,
   "id": "4487a2eb-83e6-47f8-a665-079a695b7f29",
   "metadata": {
    "tags": []
   },
   "outputs": [],
   "source": [
    "from chromoscope import Viewer\n",
    "\n",
    "Viewer.from_config(config)"
   ]
  }
 ],
 "metadata": {
  "kernelspec": {
   "display_name": "Python 3 (ipykernel)",
   "language": "python",
   "name": "python3"
  },
  "language_info": {
   "codemirror_mode": {
    "name": "ipython",
    "version": 3
   },
   "file_extension": ".py",
   "mimetype": "text/x-python",
   "name": "python",
   "nbconvert_exporter": "python",
   "pygments_lexer": "ipython3",
   "version": "3.11.5"
  }
 },
 "nbformat": 4,
 "nbformat_minor": 5
}
